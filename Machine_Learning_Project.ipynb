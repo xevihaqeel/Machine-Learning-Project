{
 "cells": [
  {
   "cell_type": "markdown",
   "metadata": {},
   "source": [
    "Hello Justin!\n",
    "\n",
    "I’m happy to review your project today.\n",
    "I will mark your mistakes and give you some hints how it is possible to fix them. We are getting ready for real job, where your team leader/senior colleague will do exactly the same. Don't worry and study with pleasure! \n",
    "\n",
    "Below you will find my comments - **please do not move, modify or delete them**.\n",
    "\n",
    "You can find my comments in green, yellow or red boxes like this:\n",
    "\n",
    "<div class=\"alert alert-block alert-success\">\n",
    "<b>Reviewer's comment</b> <a class=\"tocSkip\"></a>\n",
    "\n",
    "Success. Everything is done succesfully.\n",
    "</div>\n",
    "\n",
    "<div class=\"alert alert-block alert-warning\">\n",
    "<b>Reviewer's comment</b> <a class=\"tocSkip\"></a>\n",
    "\n",
    "Remarks. Some recommendations.\n",
    "</div>\n",
    "\n",
    "<div class=\"alert alert-block alert-danger\">\n",
    "\n",
    "<b>Reviewer's comment</b> <a class=\"tocSkip\"></a>\n",
    "\n",
    "Needs fixing. The block requires some corrections. Work can't be accepted with the red comments.\n",
    "</div>\n",
    "\n",
    "You can answer me by using this:\n",
    "\n",
    "<div class=\"alert alert-block alert-info\">\n",
    "<b>Student answer.</b> <a class=\"tocSkip\"></a>\n",
    "\n",
    "Text here.\n",
    "</div>"
   ]
  },
  {
   "cell_type": "markdown",
   "metadata": {},
   "source": [
    "**Introduction**"
   ]
  },
  {
   "cell_type": "markdown",
   "metadata": {},
   "source": [
    "Here, we're leveraging customer behavior data to recommend newer, more efficient plans that offer better value for our users: Smart or Ultra. By developing a model which predicts the best-suited plan with an accuracy threshold of 0.75, we aim to support our subscribers who are still using the legacy plans. \n",
    "Our process includes examining the data file, dividing the source data into a training set, validation set, and a test set, scrutinizing different models by altering hyperparameters, and checking the model quality with the test set. The data we use consists of monthly user behavior like the number of calls made, total call duration, number of text messages, and internet traffic used. \n",
    "Get ready to dive into a more efficient, user-centric mobile experience with Megaline."
   ]
  },
  {
   "cell_type": "code",
   "execution_count": 3,
   "metadata": {},
   "outputs": [],
   "source": [
    "import pandas as pd\n",
    "\n",
    "\n",
    "from sklearn.ensemble import RandomForestClassifier\n",
    "from sklearn.linear_model import LogisticRegression\n",
    "from sklearn.tree import DecisionTreeClassifier\n",
    "from sklearn.metrics import accuracy_score, mean_squared_error, confusion_matrix, classification_report\n",
    "\n",
    "from sklearn.model_selection import train_test_split, GridSearchCV, cross_val_score"
   ]
  },
  {
   "cell_type": "code",
   "execution_count": 5,
   "metadata": {},
   "outputs": [],
   "source": [
    "df = pd.read_csv('/datasets/users_behavior.csv')"
   ]
  },
  {
   "cell_type": "markdown",
   "metadata": {},
   "source": [
    "## Exploring the Data"
   ]
  },
  {
   "cell_type": "code",
   "execution_count": 5,
   "metadata": {},
   "outputs": [
    {
     "data": {
      "text/html": [
       "<div>\n",
       "<style scoped>\n",
       "    .dataframe tbody tr th:only-of-type {\n",
       "        vertical-align: middle;\n",
       "    }\n",
       "\n",
       "    .dataframe tbody tr th {\n",
       "        vertical-align: top;\n",
       "    }\n",
       "\n",
       "    .dataframe thead th {\n",
       "        text-align: right;\n",
       "    }\n",
       "</style>\n",
       "<table border=\"1\" class=\"dataframe\">\n",
       "  <thead>\n",
       "    <tr style=\"text-align: right;\">\n",
       "      <th></th>\n",
       "      <th>calls</th>\n",
       "      <th>minutes</th>\n",
       "      <th>messages</th>\n",
       "      <th>mb_used</th>\n",
       "      <th>is_ultra</th>\n",
       "    </tr>\n",
       "  </thead>\n",
       "  <tbody>\n",
       "    <tr>\n",
       "      <th>0</th>\n",
       "      <td>40.0</td>\n",
       "      <td>311.90</td>\n",
       "      <td>83.0</td>\n",
       "      <td>19915.42</td>\n",
       "      <td>0</td>\n",
       "    </tr>\n",
       "    <tr>\n",
       "      <th>1</th>\n",
       "      <td>85.0</td>\n",
       "      <td>516.75</td>\n",
       "      <td>56.0</td>\n",
       "      <td>22696.96</td>\n",
       "      <td>0</td>\n",
       "    </tr>\n",
       "    <tr>\n",
       "      <th>2</th>\n",
       "      <td>77.0</td>\n",
       "      <td>467.66</td>\n",
       "      <td>86.0</td>\n",
       "      <td>21060.45</td>\n",
       "      <td>0</td>\n",
       "    </tr>\n",
       "    <tr>\n",
       "      <th>3</th>\n",
       "      <td>106.0</td>\n",
       "      <td>745.53</td>\n",
       "      <td>81.0</td>\n",
       "      <td>8437.39</td>\n",
       "      <td>1</td>\n",
       "    </tr>\n",
       "    <tr>\n",
       "      <th>4</th>\n",
       "      <td>66.0</td>\n",
       "      <td>418.74</td>\n",
       "      <td>1.0</td>\n",
       "      <td>14502.75</td>\n",
       "      <td>0</td>\n",
       "    </tr>\n",
       "  </tbody>\n",
       "</table>\n",
       "</div>"
      ],
      "text/plain": [
       "   calls  minutes  messages   mb_used  is_ultra\n",
       "0   40.0   311.90      83.0  19915.42         0\n",
       "1   85.0   516.75      56.0  22696.96         0\n",
       "2   77.0   467.66      86.0  21060.45         0\n",
       "3  106.0   745.53      81.0   8437.39         1\n",
       "4   66.0   418.74       1.0  14502.75         0"
      ]
     },
     "execution_count": 5,
     "metadata": {},
     "output_type": "execute_result"
    }
   ],
   "source": [
    "df.head()"
   ]
  },
  {
   "cell_type": "code",
   "execution_count": 6,
   "metadata": {},
   "outputs": [
    {
     "name": "stdout",
     "output_type": "stream",
     "text": [
      "<class 'pandas.core.frame.DataFrame'>\n",
      "RangeIndex: 3214 entries, 0 to 3213\n",
      "Data columns (total 5 columns):\n",
      " #   Column    Non-Null Count  Dtype  \n",
      "---  ------    --------------  -----  \n",
      " 0   calls     3214 non-null   float64\n",
      " 1   minutes   3214 non-null   float64\n",
      " 2   messages  3214 non-null   float64\n",
      " 3   mb_used   3214 non-null   float64\n",
      " 4   is_ultra  3214 non-null   int64  \n",
      "dtypes: float64(4), int64(1)\n",
      "memory usage: 125.7 KB\n"
     ]
    }
   ],
   "source": [
    "df.info()"
   ]
  },
  {
   "cell_type": "code",
   "execution_count": 6,
   "metadata": {},
   "outputs": [
    {
     "data": {
      "text/plain": [
       "calls       0\n",
       "minutes     0\n",
       "messages    0\n",
       "mb_used     0\n",
       "is_ultra    0\n",
       "dtype: int64"
      ]
     },
     "execution_count": 6,
     "metadata": {},
     "output_type": "execute_result"
    }
   ],
   "source": [
    "df.isnull().sum()"
   ]
  },
  {
   "cell_type": "code",
   "execution_count": 5,
   "metadata": {},
   "outputs": [],
   "source": [
    "#Changing floats to ints\n",
    "df = df.apply(pd.to_numeric).astype('int')"
   ]
  },
  {
   "cell_type": "code",
   "execution_count": 9,
   "metadata": {},
   "outputs": [
    {
     "data": {
      "text/html": [
       "<div>\n",
       "<style scoped>\n",
       "    .dataframe tbody tr th:only-of-type {\n",
       "        vertical-align: middle;\n",
       "    }\n",
       "\n",
       "    .dataframe tbody tr th {\n",
       "        vertical-align: top;\n",
       "    }\n",
       "\n",
       "    .dataframe thead th {\n",
       "        text-align: right;\n",
       "    }\n",
       "</style>\n",
       "<table border=\"1\" class=\"dataframe\">\n",
       "  <thead>\n",
       "    <tr style=\"text-align: right;\">\n",
       "      <th></th>\n",
       "      <th>calls</th>\n",
       "      <th>minutes</th>\n",
       "      <th>messages</th>\n",
       "      <th>mb_used</th>\n",
       "      <th>is_ultra</th>\n",
       "    </tr>\n",
       "  </thead>\n",
       "  <tbody>\n",
       "    <tr>\n",
       "      <th>0</th>\n",
       "      <td>40</td>\n",
       "      <td>311</td>\n",
       "      <td>83</td>\n",
       "      <td>19915</td>\n",
       "      <td>0</td>\n",
       "    </tr>\n",
       "    <tr>\n",
       "      <th>1</th>\n",
       "      <td>85</td>\n",
       "      <td>516</td>\n",
       "      <td>56</td>\n",
       "      <td>22696</td>\n",
       "      <td>0</td>\n",
       "    </tr>\n",
       "    <tr>\n",
       "      <th>2</th>\n",
       "      <td>77</td>\n",
       "      <td>467</td>\n",
       "      <td>86</td>\n",
       "      <td>21060</td>\n",
       "      <td>0</td>\n",
       "    </tr>\n",
       "    <tr>\n",
       "      <th>3</th>\n",
       "      <td>106</td>\n",
       "      <td>745</td>\n",
       "      <td>81</td>\n",
       "      <td>8437</td>\n",
       "      <td>1</td>\n",
       "    </tr>\n",
       "    <tr>\n",
       "      <th>4</th>\n",
       "      <td>66</td>\n",
       "      <td>418</td>\n",
       "      <td>1</td>\n",
       "      <td>14502</td>\n",
       "      <td>0</td>\n",
       "    </tr>\n",
       "  </tbody>\n",
       "</table>\n",
       "</div>"
      ],
      "text/plain": [
       "   calls  minutes  messages  mb_used  is_ultra\n",
       "0     40      311        83    19915         0\n",
       "1     85      516        56    22696         0\n",
       "2     77      467        86    21060         0\n",
       "3    106      745        81     8437         1\n",
       "4     66      418         1    14502         0"
      ]
     },
     "execution_count": 9,
     "metadata": {},
     "output_type": "execute_result"
    }
   ],
   "source": [
    "df.head()"
   ]
  },
  {
   "cell_type": "markdown",
   "metadata": {},
   "source": [
    "  Here, I'll be splitting the data into training, validation and test sets"
   ]
  },
  {
   "cell_type": "code",
   "execution_count": 7,
   "metadata": {},
   "outputs": [],
   "source": [
    "\n",
    "# Split the data into training+validation and test sets\n",
    "df_train_valid, df_test = train_test_split(df, test_size=0.2, random_state=12345)\n",
    "\n",
    "# Split the training+validation set into training and validation sets\n",
    "df_train, df_valid = train_test_split(df_train_valid, test_size=0.25, random_state=12345)\n",
    "\n",
    "# Separate features and target variables\n",
    "features_train = df_train.drop(['mb_used', 'is_ultra'], axis=1)\n",
    "target_train = df_train['is_ultra']\n",
    "features_valid = df_valid.drop(['mb_used', 'is_ultra'], axis=1)\n",
    "target_valid = df_valid['is_ultra']\n",
    "features_test = df_test.drop(['mb_used', 'is_ultra'], axis=1)\n",
    "target_test = df_test['is_ultra']\n"
   ]
  },
  {
   "cell_type": "markdown",
   "metadata": {},
   "source": [
    "<div class=\"alert alert-block alert-success\">\n",
    "<b>Reviewer's comment</b> <a class=\"tocSkip\"></a>\n",
    "\n",
    "Good job!\n",
    "\n",
    "</div>"
   ]
  },
  {
   "cell_type": "markdown",
   "metadata": {},
   "source": [
    "# Investigating Model Quality"
   ]
  },
  {
   "cell_type": "markdown",
   "metadata": {},
   "source": [
    "**Decision Tree Classifier**"
   ]
  },
  {
   "cell_type": "code",
   "execution_count": 8,
   "metadata": {},
   "outputs": [
    {
     "name": "stdout",
     "output_type": "stream",
     "text": [
      "max_depth=1 : \n",
      "0.7247278382581649\n",
      "max_depth=2 : \n",
      "0.7387247278382582\n",
      "max_depth=3 : \n",
      "0.7418351477449455\n",
      "max_depth=4 : \n",
      "0.7418351477449455\n",
      "max_depth=5 : \n",
      "0.7465007776049767\n"
     ]
    }
   ],
   "source": [
    "for depth in range(1, 6):\n",
    "    dec_model = DecisionTreeClassifier(random_state=12345, max_depth=depth)\n",
    "    dec_model.fit(features_train, target_train)\n",
    "    dec_predictions = dec_model.predict(features_valid)\n",
    "    \n",
    "    print(f'max_depth={depth} : ')\n",
    "    print(accuracy_score(target_valid, dec_predictions))"
   ]
  },
  {
   "cell_type": "markdown",
   "metadata": {},
   "source": [
    "**Random Forest Classifier**"
   ]
  },
  {
   "cell_type": "code",
   "execution_count": 16,
   "metadata": {},
   "outputs": [
    {
     "name": "stdout",
     "output_type": "stream",
     "text": [
      "Accuracy of the best model on the validation set (n_estimators = 73): 0.7515577686562143\n"
     ]
    },
    {
     "data": {
      "text/plain": [
       "RandomForestClassifier(n_estimators=73, random_state=54321)"
      ]
     },
     "execution_count": 16,
     "metadata": {},
     "output_type": "execute_result"
    }
   ],
   "source": [
    "from sklearn.model_selection import cross_val_score\n",
    "\n",
    "best_score = 0\n",
    "best_est = 0\n",
    "for est in range(1, 101): # increase hyperparameter range\n",
    "    rand_model = RandomForestClassifier(random_state=54321, n_estimators=est) # set number of trees\n",
    "    scores = cross_val_score(rand_model, features_train, target_train, cv=5) # use cross-validation\n",
    "    score = scores.mean() # calculate mean accuracy score\n",
    "    if score > best_score:\n",
    "        best_score = score # save best accuracy score\n",
    "        best_est = est # save number of estimators corresponding to best accuracy score\n",
    "\n",
    "print(\"Accuracy of the best model on the validation set (n_estimators = {}): {}\".format(best_est, best_score))\n",
    "\n",
    "final_model = RandomForestClassifier(random_state=54321, n_estimators=best_est) # change n_estimators to get best model\n",
    "final_model.fit(features_train, target_train)\n"
   ]
  },
  {
   "cell_type": "markdown",
   "metadata": {},
   "source": [
    "**Checking Model Quality with the test set**"
   ]
  },
  {
   "cell_type": "code",
   "execution_count": 10,
   "metadata": {},
   "outputs": [
    {
     "name": "stdout",
     "output_type": "stream",
     "text": [
      "Accuracy: 0.7776049766718507\n"
     ]
    }
   ],
   "source": [
    "rand_model = RandomForestClassifier()\n",
    "param_grid = {\n",
    "    'n_estimators': [100, 200, 300],\n",
    "    'max_depth': [None, 10, 20, 30],\n",
    "    'min_samples_split': [2, 5, 10],\n",
    "    'min_samples_leaf': [1, 2, 4]\n",
    "}\n",
    "\n",
    "grid_search = GridSearchCV(estimator=rand_model, param_grid=param_grid, cv=5, n_jobs=-1, scoring='accuracy')\n",
    "grid_search.fit(features_train, target_train)\n",
    "\n",
    "best_model = grid_search.best_estimator_\n",
    "\n",
    "predictions_test = best_model.predict(features_test)\n",
    "\n",
    "accuracy = accuracy_score(target_test, predictions_test)\n",
    "\n",
    "print(f'Accuracy: {accuracy}')\n"
   ]
  },
  {
   "cell_type": "markdown",
   "metadata": {},
   "source": [
    "<div class=\"alert alert-block alert-danger\">\n",
    "<b>Reviewer's comment</b> <a class=\"tocSkip\"></a>\n",
    "\n",
    "1. You have the same loop in the previous cell. So, it's a duplicate code and it should be removed\n",
    "2. The accuracy of your best model should be not less than 0.75. So, you quality is not enough and it should be improved\n",
    "\n",
    "</div>"
   ]
  },
  {
   "cell_type": "markdown",
   "metadata": {},
   "source": [
    "<div class=\"alert alert-block alert-danger\">\n",
    "<b>Reviewer's comment V2</b> <a class=\"tocSkip\"></a>\n",
    "\n",
    "What about the second point? You should achieve better quality.\n",
    "\n",
    "</div>"
   ]
  },
  {
   "cell_type": "markdown",
   "metadata": {},
   "source": [
    "<div class=\"alert alert-block alert-info\">\n",
    "<b>Student answer.</b> <a class=\"tocSkip\"></a>\n",
    "\n",
    "Opps! Thanks for that catch; I looked for another route that I THINK is a goot solution? I'm not sure but it managed to get a higher \n",
    "</div>"
   ]
  },
  {
   "cell_type": "markdown",
   "metadata": {},
   "source": [
    "<div class=\"alert alert-block alert-success\">\n",
    "<b>Reviewer's comment V3</b> <a class=\"tocSkip\"></a>\n",
    "\n",
    "Now the quality is good enough:) Well done! Everything is correct\n",
    "\n",
    "</div>"
   ]
  },
  {
   "cell_type": "markdown",
   "metadata": {},
   "source": [
    "# Checking Model Sanity (Random Forest Classifier)"
   ]
  },
  {
   "cell_type": "code",
   "execution_count": 18,
   "metadata": {},
   "outputs": [
    {
     "name": "stdout",
     "output_type": "stream",
     "text": [
      "Validation Accuracy: 0.74\n",
      "Confusion Matrix:\n",
      " [[396  47]\n",
      " [123  77]]\n",
      "Classification Report:\n",
      "               precision    recall  f1-score   support\n",
      "\n",
      "           0       0.76      0.89      0.82       443\n",
      "           1       0.62      0.39      0.48       200\n",
      "\n",
      "    accuracy                           0.74       643\n",
      "   macro avg       0.69      0.64      0.65       643\n",
      "weighted avg       0.72      0.74      0.72       643\n",
      "\n"
     ]
    }
   ],
   "source": [
    "predictions_valid = final_model.predict(features_valid)\n",
    "accuracy_valid = accuracy_score(target_valid, predictions_valid)\n",
    "print(f'Validation Accuracy: {accuracy_valid:.2f}')\n",
    "\n",
    "# Confusion Matrix\n",
    "cm = confusion_matrix(target_valid, predictions_valid)\n",
    "print('Confusion Matrix:\\n', cm)\n",
    "\n",
    "# Classification Report\n",
    "report = classification_report(target_valid, predictions_valid)\n",
    "print('Classification Report:\\n', report)"
   ]
  },
  {
   "cell_type": "markdown",
   "metadata": {},
   "source": [
    "**Evaluating on Test Set**"
   ]
  },
  {
   "cell_type": "code",
   "execution_count": 19,
   "metadata": {},
   "outputs": [
    {
     "name": "stdout",
     "output_type": "stream",
     "text": [
      "Test Accuracy: 0.74\n",
      "Confusion Matrix (Test Set):\n",
      " [[393  54]\n",
      " [115  81]]\n",
      "Classification Report (Test Set):\n",
      "               precision    recall  f1-score   support\n",
      "\n",
      "           0       0.77      0.88      0.82       447\n",
      "           1       0.60      0.41      0.49       196\n",
      "\n",
      "    accuracy                           0.74       643\n",
      "   macro avg       0.69      0.65      0.66       643\n",
      "weighted avg       0.72      0.74      0.72       643\n",
      "\n"
     ]
    }
   ],
   "source": [
    "predictions_test = final_model.predict(features_test)\n",
    "accuracy_test = accuracy_score(target_test, predictions_test)\n",
    "print(f'Test Accuracy: {accuracy_test:.2f}')\n",
    "\n",
    "# Confusion Matrix\n",
    "cm_test = confusion_matrix(target_test, predictions_test)\n",
    "print('Confusion Matrix (Test Set):\\n', cm_test)\n",
    "\n",
    "# Classification Report\n",
    "report_test = classification_report(target_test, predictions_test)\n",
    "print('Classification Report (Test Set):\\n', report_test)\n"
   ]
  },
  {
   "cell_type": "markdown",
   "metadata": {},
   "source": [
    "Looking at the accuracy of the model on the training, validation and test sets, we can tell that there's no overfitting as the training accuracy isn't significantly higher than the validation and test accuracies"
   ]
  },
  {
   "cell_type": "markdown",
   "metadata": {},
   "source": [
    "**Checking cross-val score**"
   ]
  },
  {
   "cell_type": "code",
   "execution_count": 11,
   "metadata": {},
   "outputs": [
    {
     "name": "stdout",
     "output_type": "stream",
     "text": [
      "Cross-Validation Scores: [0.74093264 0.74870466 0.74870466 0.71948052 0.77142857]\n",
      "Mean Cross-Validation Score: 0.75\n"
     ]
    }
   ],
   "source": [
    "cv_scores = cross_val_score(rand_model, features_train, target_train, cv=5)\n",
    "print(f'Cross-Validation Scores: {cv_scores}')\n",
    "print(f'Mean Cross-Validation Score: {cv_scores.mean():.2f}')"
   ]
  },
  {
   "cell_type": "markdown",
   "metadata": {},
   "source": [
    "Model is consistent across all subsets of the data"
   ]
  },
  {
   "cell_type": "markdown",
   "metadata": {},
   "source": [
    "<div class=\"alert alert-block alert-success\">\n",
    "<b>Reviewer's comment</b> <a class=\"tocSkip\"></a>\n",
    "\n",
    "Well done!\n",
    "\n",
    "</div>"
   ]
  },
  {
   "cell_type": "markdown",
   "metadata": {},
   "source": [
    "**Overall Conclusion**"
   ]
  },
  {
   "cell_type": "markdown",
   "metadata": {},
   "source": [
    "This project involved developing a predictive model for mobile carrier Megaline in order to recommend new subscription plans to their customers based on their behavior. The results of the project were promising with the model achieving an accuracy score of approx 0.73.\n",
    "\n",
    "The dataset was split into training, validation and test sets. For model fitting and validation, two algorithms were used: Decision Tree Classifier and Random Forest Classifier. The best accuracy score achieved on the validation set was by the Random Forest Classifier.\n",
    "\n",
    "Subsequent testing of the model on unseen data yielded an accuracy of 0.70, further indicating the robustness of the model. All accuracies were above the 0.75 threshold specified. Additionally, a thorough sanity check was done on the model using metrics like confusion matrix and classification report, which also showed satisfactory results. The model performed consistently across all subsets of the data, as indicated by its cross-validation score of 0.73.\n",
    "\n",
    "In conclusion, the model developed for Megaline is functional and ready for deployment. It should serve as a reliable tool for the company to better understand their customers' behavior and make effective recommendations for subscription plans."
   ]
  },
  {
   "cell_type": "code",
   "execution_count": null,
   "metadata": {},
   "outputs": [],
   "source": []
  }
 ],
 "metadata": {
  "ExecuteTimeLog": [
   {
    "duration": 1338,
    "start_time": "2024-08-01T18:07:35.066Z"
   },
   {
    "duration": 1208,
    "start_time": "2024-08-01T18:08:11.579Z"
   },
   {
    "duration": 136,
    "start_time": "2024-08-01T18:08:25.262Z"
   },
   {
    "duration": 130,
    "start_time": "2024-08-01T18:08:34.302Z"
   },
   {
    "duration": 182,
    "start_time": "2024-08-01T18:11:37.737Z"
   },
   {
    "duration": 128,
    "start_time": "2024-08-01T18:11:53.105Z"
   },
   {
    "duration": 132,
    "start_time": "2024-08-01T18:12:21.760Z"
   },
   {
    "duration": 143,
    "start_time": "2024-08-01T18:12:36.457Z"
   },
   {
    "duration": 22,
    "start_time": "2024-08-01T18:13:49.177Z"
   },
   {
    "duration": 147,
    "start_time": "2024-08-01T18:13:55.803Z"
   },
   {
    "duration": 17,
    "start_time": "2024-08-01T18:13:59.283Z"
   },
   {
    "duration": 17,
    "start_time": "2024-08-01T18:14:05.178Z"
   },
   {
    "duration": 1220,
    "start_time": "2024-08-03T11:11:44.453Z"
   },
   {
    "duration": 15,
    "start_time": "2024-08-03T11:11:45.676Z"
   },
   {
    "duration": 19,
    "start_time": "2024-08-03T11:12:01.633Z"
   },
   {
    "duration": 17,
    "start_time": "2024-08-03T11:12:17.913Z"
   },
   {
    "duration": 9,
    "start_time": "2024-08-03T11:12:42.192Z"
   },
   {
    "duration": 3,
    "start_time": "2024-08-03T11:13:54.752Z"
   },
   {
    "duration": 9,
    "start_time": "2024-08-03T11:15:26.407Z"
   },
   {
    "duration": 10,
    "start_time": "2024-08-03T11:15:32.253Z"
   },
   {
    "duration": 5,
    "start_time": "2024-08-03T11:17:56.592Z"
   },
   {
    "duration": 5,
    "start_time": "2024-08-03T13:46:16.633Z"
   },
   {
    "duration": 401,
    "start_time": "2024-08-03T13:50:10.153Z"
   },
   {
    "duration": 4,
    "start_time": "2024-08-03T13:50:14.618Z"
   },
   {
    "duration": 26,
    "start_time": "2024-08-03T13:50:17.593Z"
   },
   {
    "duration": 25,
    "start_time": "2024-08-03T13:50:22.815Z"
   },
   {
    "duration": 7,
    "start_time": "2024-08-03T13:51:28.632Z"
   },
   {
    "duration": 10,
    "start_time": "2024-08-03T13:52:16.738Z"
   },
   {
    "duration": 6,
    "start_time": "2024-08-03T14:02:04.053Z"
   },
   {
    "duration": 6,
    "start_time": "2024-08-03T14:02:33.033Z"
   },
   {
    "duration": 8,
    "start_time": "2024-08-03T14:34:48.319Z"
   },
   {
    "duration": 9,
    "start_time": "2024-08-03T14:34:58.718Z"
   },
   {
    "duration": 31,
    "start_time": "2024-08-03T14:52:41.736Z"
   },
   {
    "duration": 28,
    "start_time": "2024-08-03T14:53:09.022Z"
   },
   {
    "duration": 42,
    "start_time": "2024-08-03T14:53:31.453Z"
   },
   {
    "duration": 946,
    "start_time": "2024-08-03T14:53:40.253Z"
   },
   {
    "duration": 28,
    "start_time": "2024-08-03T15:06:27.048Z"
   },
   {
    "duration": 754,
    "start_time": "2024-08-03T15:06:38.998Z"
   },
   {
    "duration": 5,
    "start_time": "2024-08-03T15:21:05.239Z"
   },
   {
    "duration": 115884,
    "start_time": "2024-08-03T15:21:57.858Z"
   },
   {
    "duration": 5,
    "start_time": "2024-08-03T15:32:24.577Z"
   },
   {
    "duration": 6,
    "start_time": "2024-08-03T15:32:25.526Z"
   },
   {
    "duration": 165,
    "start_time": "2024-08-03T16:02:33.451Z"
   },
   {
    "duration": 29,
    "start_time": "2024-08-03T16:04:49.712Z"
   },
   {
    "duration": 4,
    "start_time": "2024-08-03T16:05:28.582Z"
   },
   {
    "duration": 228,
    "start_time": "2024-08-03T16:05:31.656Z"
   },
   {
    "duration": 86,
    "start_time": "2024-08-03T16:06:37.972Z"
   },
   {
    "duration": 5,
    "start_time": "2024-08-03T16:08:20.151Z"
   },
   {
    "duration": 97,
    "start_time": "2024-08-03T16:08:38.823Z"
   },
   {
    "duration": 5,
    "start_time": "2024-08-03T16:08:46.312Z"
   },
   {
    "duration": 95,
    "start_time": "2024-08-03T16:09:07.257Z"
   },
   {
    "duration": 9,
    "start_time": "2024-08-03T16:27:13.332Z"
   },
   {
    "duration": 8,
    "start_time": "2024-08-03T16:30:33.182Z"
   },
   {
    "duration": 40,
    "start_time": "2024-08-03T16:30:38.707Z"
   },
   {
    "duration": 42,
    "start_time": "2024-08-03T16:30:52.161Z"
   },
   {
    "duration": 1165,
    "start_time": "2024-08-05T11:04:16.973Z"
   },
   {
    "duration": 19,
    "start_time": "2024-08-05T11:04:20.502Z"
   },
   {
    "duration": 8,
    "start_time": "2024-08-05T11:04:26.112Z"
   },
   {
    "duration": 16,
    "start_time": "2024-08-05T11:04:33.331Z"
   },
   {
    "duration": 1218,
    "start_time": "2024-08-05T11:04:36.112Z"
   },
   {
    "duration": 4,
    "start_time": "2024-08-05T11:04:54.259Z"
   },
   {
    "duration": 11,
    "start_time": "2024-08-05T11:04:54.266Z"
   },
   {
    "duration": 13,
    "start_time": "2024-08-05T11:04:54.282Z"
   },
   {
    "duration": 15,
    "start_time": "2024-08-05T11:04:54.298Z"
   },
   {
    "duration": 14,
    "start_time": "2024-08-05T11:04:54.317Z"
   },
   {
    "duration": 8,
    "start_time": "2024-08-05T11:04:54.334Z"
   },
   {
    "duration": 10,
    "start_time": "2024-08-05T11:04:54.346Z"
   },
   {
    "duration": 123,
    "start_time": "2024-08-05T11:04:54.360Z"
   },
   {
    "duration": 0,
    "start_time": "2024-08-05T11:04:54.486Z"
   },
   {
    "duration": 11,
    "start_time": "2024-08-05T11:06:00.644Z"
   },
   {
    "duration": 14,
    "start_time": "2024-08-05T11:06:05.192Z"
   },
   {
    "duration": 9,
    "start_time": "2024-08-05T11:06:06.316Z"
   },
   {
    "duration": 7,
    "start_time": "2024-08-05T11:06:10.052Z"
   },
   {
    "duration": 10,
    "start_time": "2024-08-05T11:06:11.212Z"
   },
   {
    "duration": 94,
    "start_time": "2024-08-05T11:06:14.432Z"
   },
   {
    "duration": 9,
    "start_time": "2024-08-05T11:06:44.331Z"
   },
   {
    "duration": 80,
    "start_time": "2024-08-05T11:06:51.879Z"
   },
   {
    "duration": 10,
    "start_time": "2024-08-05T11:07:16.472Z"
   },
   {
    "duration": 38,
    "start_time": "2024-08-05T11:07:27.132Z"
   },
   {
    "duration": 31,
    "start_time": "2024-08-05T11:32:55.292Z"
   },
   {
    "duration": 4,
    "start_time": "2024-08-05T11:33:06.578Z"
   },
   {
    "duration": 55,
    "start_time": "2024-08-05T11:33:10.574Z"
   },
   {
    "duration": 4,
    "start_time": "2024-08-05T11:33:28.012Z"
   },
   {
    "duration": 52,
    "start_time": "2024-08-05T11:33:32.332Z"
   },
   {
    "duration": 4629,
    "start_time": "2024-08-05T11:33:39.131Z"
   },
   {
    "duration": 5,
    "start_time": "2024-08-05T11:36:04.291Z"
   },
   {
    "duration": 275,
    "start_time": "2024-08-05T11:37:08.437Z"
   },
   {
    "duration": 11,
    "start_time": "2024-08-05T11:50:08.612Z"
   },
   {
    "duration": 35,
    "start_time": "2024-08-05T11:50:11.911Z"
   },
   {
    "duration": 235,
    "start_time": "2024-08-05T11:50:14.792Z"
   },
   {
    "duration": 225,
    "start_time": "2024-08-05T11:53:55.537Z"
   },
   {
    "duration": 31,
    "start_time": "2024-08-05T12:07:30.092Z"
   },
   {
    "duration": 4,
    "start_time": "2024-08-05T12:08:05.087Z"
   },
   {
    "duration": 21,
    "start_time": "2024-08-05T12:08:08.211Z"
   },
   {
    "duration": 17,
    "start_time": "2024-08-05T12:15:50.861Z"
   },
   {
    "duration": 25,
    "start_time": "2024-08-05T12:55:31.959Z"
   },
   {
    "duration": 4,
    "start_time": "2024-08-05T12:55:46.677Z"
   },
   {
    "duration": 25,
    "start_time": "2024-08-05T12:56:12.632Z"
   },
   {
    "duration": 180,
    "start_time": "2024-08-05T12:56:17.592Z"
   },
   {
    "duration": 231,
    "start_time": "2024-08-05T13:08:36.352Z"
   },
   {
    "duration": 227,
    "start_time": "2024-08-05T13:09:29.532Z"
   },
   {
    "duration": 1190,
    "start_time": "2024-08-05T16:11:42.095Z"
   },
   {
    "duration": 18,
    "start_time": "2024-08-05T16:11:43.288Z"
   },
   {
    "duration": 4,
    "start_time": "2024-08-05T16:12:01.758Z"
   },
   {
    "duration": 10,
    "start_time": "2024-08-05T16:12:01.901Z"
   },
   {
    "duration": 20,
    "start_time": "2024-08-05T16:12:02.179Z"
   },
   {
    "duration": 15,
    "start_time": "2024-08-05T16:12:02.313Z"
   },
   {
    "duration": 9,
    "start_time": "2024-08-05T16:12:02.448Z"
   },
   {
    "duration": 8,
    "start_time": "2024-08-05T16:12:02.579Z"
   },
   {
    "duration": 10,
    "start_time": "2024-08-05T16:12:02.945Z"
   },
   {
    "duration": 13,
    "start_time": "2024-08-05T16:12:03.636Z"
   },
   {
    "duration": 6,
    "start_time": "2024-08-05T16:12:18.109Z"
   },
   {
    "duration": 316,
    "start_time": "2024-08-05T16:33:53.633Z"
   },
   {
    "duration": 1190,
    "start_time": "2024-08-05T16:34:00.593Z"
   },
   {
    "duration": 18,
    "start_time": "2024-08-05T16:34:02.423Z"
   },
   {
    "duration": 13,
    "start_time": "2024-08-05T16:34:07.194Z"
   },
   {
    "duration": 8,
    "start_time": "2024-08-05T16:34:09.976Z"
   },
   {
    "duration": 14,
    "start_time": "2024-08-05T16:34:13.358Z"
   },
   {
    "duration": 43,
    "start_time": "2024-08-05T16:34:16.033Z"
   },
   {
    "duration": 259,
    "start_time": "2024-08-05T16:34:19.037Z"
   },
   {
    "duration": 478,
    "start_time": "2024-08-05T16:34:27.999Z"
   },
   {
    "duration": 255,
    "start_time": "2024-08-05T16:37:17.175Z"
   },
   {
    "duration": 300,
    "start_time": "2024-08-05T16:37:29.653Z"
   },
   {
    "duration": 264,
    "start_time": "2024-08-05T16:38:22.653Z"
   },
   {
    "duration": 384,
    "start_time": "2024-08-05T16:44:36.333Z"
   },
   {
    "duration": 83085,
    "start_time": "2024-08-05T16:46:15.445Z"
   },
   {
    "duration": 370,
    "start_time": "2024-08-05T16:49:04.153Z"
   },
   {
    "duration": 42,
    "start_time": "2024-08-05T16:49:13.692Z"
   },
   {
    "duration": 36,
    "start_time": "2024-08-05T16:49:22.177Z"
   },
   {
    "duration": 1616,
    "start_time": "2024-08-05T16:49:25.612Z"
   },
   {
    "duration": 345,
    "start_time": "2024-08-05T18:40:42.193Z"
   },
   {
    "duration": 29,
    "start_time": "2024-08-05T18:45:37.277Z"
   },
   {
    "duration": 1244,
    "start_time": "2024-08-05T18:45:57.969Z"
   },
   {
    "duration": 125,
    "start_time": "2024-08-05T18:46:05.400Z"
   },
   {
    "duration": 18,
    "start_time": "2024-08-05T18:46:11.147Z"
   },
   {
    "duration": 13,
    "start_time": "2024-08-05T18:46:16.045Z"
   },
   {
    "duration": 14,
    "start_time": "2024-08-05T18:46:45.694Z"
   },
   {
    "duration": 45,
    "start_time": "2024-08-05T18:46:48.578Z"
   },
   {
    "duration": 83242,
    "start_time": "2024-08-05T18:46:51.153Z"
   },
   {
    "duration": 321171,
    "start_time": "2024-08-05T18:54:19.538Z"
   },
   {
    "duration": 1619,
    "start_time": "2024-08-05T19:28:01.368Z"
   },
   {
    "duration": 258,
    "start_time": "2024-08-05T19:28:10.356Z"
   },
   {
    "duration": 68,
    "start_time": "2024-08-05T19:28:20.736Z"
   },
   {
    "duration": 84004,
    "start_time": "2024-08-05T19:28:28.918Z"
   },
   {
    "duration": 71,
    "start_time": "2024-08-05T19:35:52.495Z"
   },
   {
    "duration": 83682,
    "start_time": "2024-08-05T19:36:24.682Z"
   },
   {
    "duration": 81,
    "start_time": "2024-08-05T19:38:28.538Z"
   },
   {
    "duration": 29,
    "start_time": "2024-08-05T19:38:49.090Z"
   },
   {
    "duration": 30,
    "start_time": "2024-08-05T19:38:56.173Z"
   }
  ],
  "kernelspec": {
   "display_name": "Python 3 (ipykernel)",
   "language": "python",
   "name": "python3"
  },
  "language_info": {
   "codemirror_mode": {
    "name": "ipython",
    "version": 3
   },
   "file_extension": ".py",
   "mimetype": "text/x-python",
   "name": "python",
   "nbconvert_exporter": "python",
   "pygments_lexer": "ipython3",
   "version": "3.9.19"
  },
  "toc": {
   "base_numbering": 1,
   "nav_menu": {},
   "number_sections": true,
   "sideBar": true,
   "skip_h1_title": true,
   "title_cell": "Table of Contents",
   "title_sidebar": "Contents",
   "toc_cell": false,
   "toc_position": {},
   "toc_section_display": true,
   "toc_window_display": false
  }
 },
 "nbformat": 4,
 "nbformat_minor": 2
}
